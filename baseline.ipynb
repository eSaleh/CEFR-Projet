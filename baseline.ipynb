{
 "cells": [
  {
   "cell_type": "markdown",
   "metadata": {},
   "source": [
    "# Baseline Models"
   ]
  },
  {
   "cell_type": "code",
   "execution_count": 1,
   "metadata": {},
   "outputs": [],
   "source": [
    "import pandas as pd\n",
    "import numpy as np\n",
    "import sklearn\n",
    "import matplotlib.pyplot as plt\n",
    "import seaborn as sns\n",
    "\n",
    "from sklearn.preprocessing import StandardScaler\n",
    "from sklearn.ensemble import RandomForestClassifier\n",
    "from sklearn.neural_network import MLPClassifier\n",
    "from sklearn.svm import SVC\n",
    "from sklearn.model_selection import train_test_split, GridSearchCV, KFold,StratifiedKFold\n",
    "from sklearn.metrics import confusion_matrix, accuracy_score, f1_score"
   ]
  },
  {
   "cell_type": "code",
   "execution_count": 2,
   "metadata": {},
   "outputs": [
    {
     "name": "stderr",
     "output_type": "stream",
     "text": [
      "[nltk_data] Downloading package stopwords to /home/elies/nltk_data...\n",
      "[nltk_data]   Package stopwords is already up-to-date!\n",
      "[nltk_data] Downloading package punkt to /home/elies/nltk_data...\n",
      "[nltk_data]   Package punkt is already up-to-date!\n",
      "[nltk_data] Downloading package wordnet to /home/elies/nltk_data...\n",
      "[nltk_data]   Package wordnet is already up-to-date!\n"
     ]
    }
   ],
   "source": [
    "import pandas as pd\n",
    "import numpy as np\n",
    "import matplotlib.pyplot as plt\n",
    "\n",
    "import nltk\n",
    "nltk.download('stopwords')\n",
    "nltk.download('punkt')\n",
    "nltk.download('wordnet')\n",
    "\n",
    "import preprocessing as pp\n",
    "\n",
    "plt.rcParams[\"figure.figsize\"] = (10, 6)\n",
    "sns.set(style=\"dark\")\n",
    "sns.set(font_scale=1.85)"
   ]
  },
  {
   "cell_type": "markdown",
   "metadata": {},
   "source": [
    "## RandomForest"
   ]
  },
  {
   "cell_type": "code",
   "execution_count": 3,
   "metadata": {},
   "outputs": [
    {
     "name": "stdout",
     "output_type": "stream",
     "text": [
      "                                                    text  level\n",
      "0      \\r\\r\\n      Hi! Just some words about the prod...      3\n",
      "1      \\r\\r\\n      Dear Sir and Madam,I am writing to...      3\n",
      "2      \\r\\r\\n      Isabella tells John her life and h...      1\n",
      "3      \\r\\r\\n      From: fabsymon To: Everybody Subje...      1\n",
      "4      \\r\\r\\n      my name is alison . i live in fren...      0\n",
      "...                                                  ...    ...\n",
      "13366  \\r\\r\\n      This week end there will a big con...      1\n",
      "13367  \\r\\r\\n      Hi, Thank you for sending me the r...      2\n",
      "13368  \\r\\r\\n      Hello Aunt Jane, I'm happy to help...      1\n",
      "13369  \\r\\r\\n      I first time a saw my partner, I w...      2\n",
      "13370  \\r\\r\\n      Dear Ms Thomas, There are thirteen...      0\n",
      "\n",
      "[13371 rows x 2 columns]\n"
     ]
    }
   ],
   "source": [
    "data_file = './datasets/X_y_train.csv'\n",
    "df = pd.read_csv(data_file, usecols=['text', 'level'])\n",
    "print(df)"
   ]
  },
  {
   "cell_type": "code",
   "execution_count": 4,
   "metadata": {},
   "outputs": [],
   "source": [
    "sent_df = pp.get_sentences(df, 'text', 'level')"
   ]
  },
  {
   "cell_type": "code",
   "execution_count": 5,
   "metadata": {},
   "outputs": [],
   "source": [
    "sentence_df_stats= pp.get_word_stats(df,'text',True)"
   ]
  },
  {
   "cell_type": "code",
   "execution_count": 6,
   "metadata": {},
   "outputs": [],
   "source": [
    "sentence_df_stats=pd.DataFrame(sentence_df_stats[0], columns=['sum', 'len', 'mean','max','min','avg'])"
   ]
  },
  {
   "cell_type": "code",
   "execution_count": 7,
   "metadata": {},
   "outputs": [
    {
     "data": {
      "text/html": [
       "<div>\n",
       "<style scoped>\n",
       "    .dataframe tbody tr th:only-of-type {\n",
       "        vertical-align: middle;\n",
       "    }\n",
       "\n",
       "    .dataframe tbody tr th {\n",
       "        vertical-align: top;\n",
       "    }\n",
       "\n",
       "    .dataframe thead th {\n",
       "        text-align: right;\n",
       "    }\n",
       "</style>\n",
       "<table border=\"1\" class=\"dataframe\">\n",
       "  <thead>\n",
       "    <tr style=\"text-align: right;\">\n",
       "      <th></th>\n",
       "      <th>sum</th>\n",
       "      <th>len</th>\n",
       "      <th>mean</th>\n",
       "      <th>max</th>\n",
       "      <th>min</th>\n",
       "      <th>avg</th>\n",
       "    </tr>\n",
       "  </thead>\n",
       "  <tbody>\n",
       "    <tr>\n",
       "      <th>0</th>\n",
       "      <td>110</td>\n",
       "      <td>12</td>\n",
       "      <td>9.166667</td>\n",
       "      <td>20</td>\n",
       "      <td>1</td>\n",
       "      <td>5.754545</td>\n",
       "    </tr>\n",
       "    <tr>\n",
       "      <th>1</th>\n",
       "      <td>156</td>\n",
       "      <td>7</td>\n",
       "      <td>22.285714</td>\n",
       "      <td>44</td>\n",
       "      <td>14</td>\n",
       "      <td>4.314103</td>\n",
       "    </tr>\n",
       "    <tr>\n",
       "      <th>2</th>\n",
       "      <td>71</td>\n",
       "      <td>7</td>\n",
       "      <td>10.142857</td>\n",
       "      <td>16</td>\n",
       "      <td>5</td>\n",
       "      <td>4.605634</td>\n",
       "    </tr>\n",
       "    <tr>\n",
       "      <th>3</th>\n",
       "      <td>101</td>\n",
       "      <td>10</td>\n",
       "      <td>10.100000</td>\n",
       "      <td>21</td>\n",
       "      <td>1</td>\n",
       "      <td>4.683168</td>\n",
       "    </tr>\n",
       "    <tr>\n",
       "      <th>4</th>\n",
       "      <td>45</td>\n",
       "      <td>4</td>\n",
       "      <td>11.250000</td>\n",
       "      <td>23</td>\n",
       "      <td>5</td>\n",
       "      <td>3.311111</td>\n",
       "    </tr>\n",
       "    <tr>\n",
       "      <th>...</th>\n",
       "      <td>...</td>\n",
       "      <td>...</td>\n",
       "      <td>...</td>\n",
       "      <td>...</td>\n",
       "      <td>...</td>\n",
       "      <td>...</td>\n",
       "    </tr>\n",
       "    <tr>\n",
       "      <th>13366</th>\n",
       "      <td>34</td>\n",
       "      <td>5</td>\n",
       "      <td>6.800000</td>\n",
       "      <td>10</td>\n",
       "      <td>4</td>\n",
       "      <td>3.852941</td>\n",
       "    </tr>\n",
       "    <tr>\n",
       "      <th>13367</th>\n",
       "      <td>90</td>\n",
       "      <td>8</td>\n",
       "      <td>11.250000</td>\n",
       "      <td>18</td>\n",
       "      <td>2</td>\n",
       "      <td>3.944444</td>\n",
       "    </tr>\n",
       "    <tr>\n",
       "      <th>13368</th>\n",
       "      <td>64</td>\n",
       "      <td>7</td>\n",
       "      <td>9.142857</td>\n",
       "      <td>29</td>\n",
       "      <td>1</td>\n",
       "      <td>4.406250</td>\n",
       "    </tr>\n",
       "    <tr>\n",
       "      <th>13369</th>\n",
       "      <td>118</td>\n",
       "      <td>7</td>\n",
       "      <td>16.857143</td>\n",
       "      <td>28</td>\n",
       "      <td>8</td>\n",
       "      <td>4.525424</td>\n",
       "    </tr>\n",
       "    <tr>\n",
       "      <th>13370</th>\n",
       "      <td>31</td>\n",
       "      <td>2</td>\n",
       "      <td>15.500000</td>\n",
       "      <td>28</td>\n",
       "      <td>3</td>\n",
       "      <td>5.580645</td>\n",
       "    </tr>\n",
       "  </tbody>\n",
       "</table>\n",
       "<p>13371 rows × 6 columns</p>\n",
       "</div>"
      ],
      "text/plain": [
       "       sum  len       mean  max  min       avg\n",
       "0      110   12   9.166667   20    1  5.754545\n",
       "1      156    7  22.285714   44   14  4.314103\n",
       "2       71    7  10.142857   16    5  4.605634\n",
       "3      101   10  10.100000   21    1  4.683168\n",
       "4       45    4  11.250000   23    5  3.311111\n",
       "...    ...  ...        ...  ...  ...       ...\n",
       "13366   34    5   6.800000   10    4  3.852941\n",
       "13367   90    8  11.250000   18    2  3.944444\n",
       "13368   64    7   9.142857   29    1  4.406250\n",
       "13369  118    7  16.857143   28    8  4.525424\n",
       "13370   31    2  15.500000   28    3  5.580645\n",
       "\n",
       "[13371 rows x 6 columns]"
      ]
     },
     "execution_count": 7,
     "metadata": {},
     "output_type": "execute_result"
    }
   ],
   "source": [
    "sentence_df_stats"
   ]
  },
  {
   "cell_type": "code",
   "execution_count": 8,
   "metadata": {},
   "outputs": [
    {
     "data": {
      "text/html": [
       "<div>\n",
       "<style scoped>\n",
       "    .dataframe tbody tr th:only-of-type {\n",
       "        vertical-align: middle;\n",
       "    }\n",
       "\n",
       "    .dataframe tbody tr th {\n",
       "        vertical-align: top;\n",
       "    }\n",
       "\n",
       "    .dataframe thead th {\n",
       "        text-align: right;\n",
       "    }\n",
       "</style>\n",
       "<table border=\"1\" class=\"dataframe\">\n",
       "  <thead>\n",
       "    <tr style=\"text-align: right;\">\n",
       "      <th></th>\n",
       "      <th>text</th>\n",
       "      <th>num_of_words</th>\n",
       "      <th>avg_len_words</th>\n",
       "      <th>level</th>\n",
       "      <th>doc_id</th>\n",
       "    </tr>\n",
       "  </thead>\n",
       "  <tbody>\n",
       "    <tr>\n",
       "      <th>0</th>\n",
       "      <td>Hi!</td>\n",
       "      <td>1</td>\n",
       "      <td>2.00</td>\n",
       "      <td>3</td>\n",
       "      <td>0</td>\n",
       "    </tr>\n",
       "    <tr>\n",
       "      <th>1</th>\n",
       "      <td>Just some words about the product &amp;quot;Transf...</td>\n",
       "      <td>10</td>\n",
       "      <td>5.70</td>\n",
       "      <td>3</td>\n",
       "      <td>0</td>\n",
       "    </tr>\n",
       "    <tr>\n",
       "      <th>2</th>\n",
       "      <td>With $235 the cost is in the average Market.</td>\n",
       "      <td>9</td>\n",
       "      <td>3.78</td>\n",
       "      <td>3</td>\n",
       "      <td>0</td>\n",
       "    </tr>\n",
       "    <tr>\n",
       "      <th>3</th>\n",
       "      <td>The important differences are the features.</td>\n",
       "      <td>6</td>\n",
       "      <td>6.17</td>\n",
       "      <td>3</td>\n",
       "      <td>0</td>\n",
       "    </tr>\n",
       "    <tr>\n",
       "      <th>4</th>\n",
       "      <td>It's a palm-size which could translates 500 us...</td>\n",
       "      <td>22</td>\n",
       "      <td>4.45</td>\n",
       "      <td>3</td>\n",
       "      <td>0</td>\n",
       "    </tr>\n",
       "    <tr>\n",
       "      <th>...</th>\n",
       "      <td>...</td>\n",
       "      <td>...</td>\n",
       "      <td>...</td>\n",
       "      <td>...</td>\n",
       "      <td>...</td>\n",
       "    </tr>\n",
       "    <tr>\n",
       "      <th>82368</th>\n",
       "      <td>he approached me, I answered as I could in Eng...</td>\n",
       "      <td>12</td>\n",
       "      <td>4.08</td>\n",
       "      <td>2</td>\n",
       "      <td>13369</td>\n",
       "    </tr>\n",
       "    <tr>\n",
       "      <th>82369</th>\n",
       "      <td>I became increasingly attracted by his eyes, h...</td>\n",
       "      <td>29</td>\n",
       "      <td>4.62</td>\n",
       "      <td>2</td>\n",
       "      <td>13369</td>\n",
       "    </tr>\n",
       "    <tr>\n",
       "      <th>82370</th>\n",
       "      <td>Now I find myself please take English lessons.</td>\n",
       "      <td>8</td>\n",
       "      <td>4.75</td>\n",
       "      <td>2</td>\n",
       "      <td>13369</td>\n",
       "    </tr>\n",
       "    <tr>\n",
       "      <th>82371</th>\n",
       "      <td>Dear Ms Thomas, There are thirteen computers a...</td>\n",
       "      <td>29</td>\n",
       "      <td>5.34</td>\n",
       "      <td>0</td>\n",
       "      <td>13370</td>\n",
       "    </tr>\n",
       "    <tr>\n",
       "      <th>82372</th>\n",
       "      <td>See you soon</td>\n",
       "      <td>3</td>\n",
       "      <td>3.33</td>\n",
       "      <td>0</td>\n",
       "      <td>13370</td>\n",
       "    </tr>\n",
       "  </tbody>\n",
       "</table>\n",
       "<p>82373 rows × 5 columns</p>\n",
       "</div>"
      ],
      "text/plain": [
       "                                                    text  num_of_words  \\\n",
       "0                                                    Hi!             1   \n",
       "1      Just some words about the product &quot;Transf...            10   \n",
       "2           With $235 the cost is in the average Market.             9   \n",
       "3            The important differences are the features.             6   \n",
       "4      It's a palm-size which could translates 500 us...            22   \n",
       "...                                                  ...           ...   \n",
       "82368  he approached me, I answered as I could in Eng...            12   \n",
       "82369  I became increasingly attracted by his eyes, h...            29   \n",
       "82370     Now I find myself please take English lessons.             8   \n",
       "82371  Dear Ms Thomas, There are thirteen computers a...            29   \n",
       "82372                                       See you soon             3   \n",
       "\n",
       "       avg_len_words  level  doc_id  \n",
       "0               2.00      3       0  \n",
       "1               5.70      3       0  \n",
       "2               3.78      3       0  \n",
       "3               6.17      3       0  \n",
       "4               4.45      3       0  \n",
       "...              ...    ...     ...  \n",
       "82368           4.08      2   13369  \n",
       "82369           4.62      2   13369  \n",
       "82370           4.75      2   13369  \n",
       "82371           5.34      0   13370  \n",
       "82372           3.33      0   13370  \n",
       "\n",
       "[82373 rows x 5 columns]"
      ]
     },
     "execution_count": 8,
     "metadata": {},
     "output_type": "execute_result"
    }
   ],
   "source": [
    "# Break the Data Frame into pieces sentence-wise\n",
    "sentence_df = pd.DataFrame.from_records(sent_df, columns=['text', 'num_of_words', 'avg_len_words', 'level', 'doc_id'])\n",
    "sentence_df"
   ]
  },
  {
   "cell_type": "code",
   "execution_count": 9,
   "metadata": {},
   "outputs": [],
   "source": [
    "data_baseline=sentence_df[[\"num_of_words\",\"avg_len_words\",\"level\"]]"
   ]
  },
  {
   "cell_type": "code",
   "execution_count": 10,
   "metadata": {},
   "outputs": [],
   "source": [
    "X=sentence_df_stats\n",
    "y=df[\"level\"]"
   ]
  },
  {
   "cell_type": "code",
   "execution_count": 11,
   "metadata": {},
   "outputs": [
    {
     "data": {
      "text/plain": [
       "(0        3\n",
       " 1        3\n",
       " 2        1\n",
       " 3        1\n",
       " 4        0\n",
       "         ..\n",
       " 13366    1\n",
       " 13367    2\n",
       " 13368    1\n",
       " 13369    2\n",
       " 13370    0\n",
       " Name: level, Length: 13371, dtype: int64,\n",
       "        sum  len       mean  max  min       avg\n",
       " 0      110   12   9.166667   20    1  5.754545\n",
       " 1      156    7  22.285714   44   14  4.314103\n",
       " 2       71    7  10.142857   16    5  4.605634\n",
       " 3      101   10  10.100000   21    1  4.683168\n",
       " 4       45    4  11.250000   23    5  3.311111\n",
       " ...    ...  ...        ...  ...  ...       ...\n",
       " 13366   34    5   6.800000   10    4  3.852941\n",
       " 13367   90    8  11.250000   18    2  3.944444\n",
       " 13368   64    7   9.142857   29    1  4.406250\n",
       " 13369  118    7  16.857143   28    8  4.525424\n",
       " 13370   31    2  15.500000   28    3  5.580645\n",
       " \n",
       " [13371 rows x 6 columns])"
      ]
     },
     "execution_count": 11,
     "metadata": {},
     "output_type": "execute_result"
    }
   ],
   "source": [
    "y,X"
   ]
  },
  {
   "cell_type": "code",
   "execution_count": 12,
   "metadata": {},
   "outputs": [],
   "source": [
    "X_train, X_test, y_train, y_test = train_test_split(\n",
    "    X, y, test_size=0.2, shuffle=True\n",
    ")"
   ]
  },
  {
   "cell_type": "code",
   "execution_count": 13,
   "metadata": {},
   "outputs": [],
   "source": [
    "scaler = StandardScaler()\n",
    "X_train = scaler.fit_transform(X_train)\n",
    "X_test = scaler.transform(X_test)"
   ]
  },
  {
   "cell_type": "code",
   "execution_count": 14,
   "metadata": {},
   "outputs": [],
   "source": [
    "modeles = [\n",
    "    (\n",
    "        \"SVM\",\n",
    "        SVC(),\n",
    "        {\"C\": [0.1, 1, 10], \"kernel\": [\"linear\", \"rbf\"]},\n",
    "    ),\n",
    "    (\n",
    "        \"RandomForest\",\n",
    "        RandomForestClassifier(),\n",
    "        {\n",
    "            \"n_estimators\": [400, 500, 600],\n",
    "            \"criterion\": [\"gini\", \"entropy\", \"log_loss\"],\n",
    "            \"class_weight\": [\"balanced\"],\n",
    "            \"max_depth\": [50, 100],\n",
    "        },\n",
    "    ),\n",
    "]"
   ]
  },
  {
   "cell_type": "code",
   "execution_count": 15,
   "metadata": {},
   "outputs": [
    {
     "name": "stdout",
     "output_type": "stream",
     "text": [
      "Entraînement et optimisation de SVM...\n"
     ]
    },
    {
     "name": "stdout",
     "output_type": "stream",
     "text": [
      "Model: SVM\n",
      "Best Hyperparameters: {'C': 10, 'kernel': 'rbf'}\n",
      "F1-score: 0.6686328531285973\n",
      "accuracy: 0.6766355140186916\n",
      "------------------------------------\n",
      "Entraînement et optimisation de RandomForest...\n",
      "Model: RandomForest\n",
      "Best Hyperparameters: {'class_weight': 'balanced', 'criterion': 'gini', 'max_depth': 100, 'n_estimators': 500}\n",
      "F1-score: 0.6613034181009171\n",
      "accuracy: 0.6631775700934579\n",
      "------------------------------------\n"
     ]
    }
   ],
   "source": [
    "for nomModele, modele, param_grid in modeles:\n",
    "    print(f\"Entraînement et optimisation de {nomModele}...\")\n",
    "\n",
    "    # Recherche des meilleurs hyperparamètres par grid search\n",
    "    grid_search = GridSearchCV(modele, param_grid,n_jobs=-1,verbose=0)\n",
    "    grid_search.fit(X_train, y_train)\n",
    "\n",
    "    # Récupérations du modèle avec les meilleurs hyperparamètres\n",
    "    meilleurModele = grid_search.best_estimator_\n",
    "\n",
    "    # Réalisation d'une prédiction\n",
    "    y_pred = meilleurModele.predict(X_test)\n",
    "\n",
    "    # Evaluation du modèle\n",
    "    f1 = f1_score(y_test, y_pred,average=\"weighted\")\n",
    "    accuracy=accuracy_score(y_test,y_pred)\n",
    "    # Affichage des résultats\n",
    "    print(f\"Model: {nomModele}\")\n",
    "    print(f\"Best Hyperparameters: {grid_search.best_params_}\")\n",
    "    print(f\"F1-score: {f1}\")\n",
    "    print(f\"accuracy: {accuracy}\")\n",
    "    print(\"------------------------------------\")"
   ]
  },
  {
   "cell_type": "markdown",
   "metadata": {},
   "source": [
    "|Model|Hyperparams|score|nbr_colonnes|\n",
    "|--------------------|-------------------------------------------------------------------------------------------|--------------------|----|\n",
    "|RandomForest|{'class_weight': 'balanced', 'criterion': 'entropy', 'n_estimators': 400}|accuracy=0.299|2 colonnes (avg len et num_of_words)|\n",
    "|RandomForest|{'class_weight': 'balanced', 'criterion': 'entropy', 'n_estimators': 400}|accuracy=0.65|6 colonnes| \n",
    "|MLP|{'activation': 'tanh', 'alpha': 0.0001, 'learning_rate': 'constant', 'solver': 'adam'}|accuracy=0.6549|6 colonnes| \n",
    "|SVM|{'activation': 'tanh', 'alpha': 0.0001, 'learning_rate': 'constant', 'solver': 'adam'}|accuracy=0.6549|6 colonnes| "
   ]
  },
  {
   "cell_type": "code",
   "execution_count": 16,
   "metadata": {},
   "outputs": [
    {
     "data": {
      "text/plain": [
       "<Axes: >"
      ]
     },
     "execution_count": 16,
     "metadata": {},
     "output_type": "execute_result"
    },
    {
     "data": {
      "image/png": "[encoded data removed]",
      "text/plain": [
       "<Figure size 1000x600 with 2 Axes>"
      ]
     },
     "metadata": {},
     "output_type": "display_data"
    }
   ],
   "source": [
    "clf = RandomForestClassifier(n_estimators=400, criterion=\"gini\",class_weight=\"balanced\",max_depth=50)\n",
    "\n",
    "clf.fit(X_train,y_train)\n",
    "\n",
    "y_pred=clf.predict(X_test)\n",
    "acc=accuracy_score(y_test,y_pred)\n",
    "sns.heatmap(confusion_matrix(y_test,y_pred))"
   ]
  },
  {
   "cell_type": "code",
   "execution_count": 17,
   "metadata": {},
   "outputs": [
    {
     "data": {
      "text/plain": [
       "<Axes: >"
      ]
     },
     "execution_count": 17,
     "metadata": {},
     "output_type": "execute_result"
    },
    {
     "data": {
      "image/png": "[encoded data removed]",
      "text/plain": [
       "<Figure size 1000x600 with 2 Axes>"
      ]
     },
     "metadata": {},
     "output_type": "display_data"
    }
   ],
   "source": [
    "clf_svm=SVC(kernel=\"rbf\",C=10,class_weight=\"balanced\")\n",
    "clf_svm.fit(X_train,y_train)\n",
    "y_pred=clf_svm.predict(X_test)\n",
    "acc=accuracy_score(y_test,y_pred)\n",
    "sns.heatmap(confusion_matrix(y_test,y_pred))"
   ]
  },
  {
   "cell_type": "code",
   "execution_count": 20,
   "metadata": {},
   "outputs": [],
   "source": [
    "data_file = \"./datasets/X_test.csv\"\n",
    "df_test = pd.read_csv(data_file, usecols=[\"text\"])\n",
    "\n",
    "sentence_df_test_stats= pp.get_word_stats(df_test,'text',True)\n",
    "sentence_df_test_stats=pd.DataFrame(sentence_df_test_stats[0], columns=['sum', 'len', 'mean','max','min','avg'])\n",
    "sentence_df_test_stats = scaler.transform(sentence_df_test_stats)\n",
    "ypred = pd.DataFrame(clf_svm.predict(sentence_df_test_stats), columns=[\"level\"])\n",
    "ypred.to_csv(\"./soumission_baseline.csv\")"
   ]
  }
 ],
 "metadata": {
  "kernelspec": {
   "display_name": "Projet-CEFR",
   "language": "python",
   "name": "python3"
  },
  "language_info": {
   "codemirror_mode": {
    "name": "ipython",
    "version": 3
   },
   "file_extension": ".py",
   "mimetype": "text/x-python",
   "name": "python",
   "nbconvert_exporter": "python",
   "pygments_lexer": "ipython3",
   "version": "3.10.16"
  }
 },
 "nbformat": 4,
 "nbformat_minor": 2
}
