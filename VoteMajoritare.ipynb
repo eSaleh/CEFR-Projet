{
 "cells": [
  {
   "cell_type": "markdown",
   "id": "c3b5ebf5",
   "metadata": {
    "id": "c3b5ebf5"
   },
   "source": [
    "## Read data"
   ]
  },
  {
   "cell_type": "markdown",
   "id": "10f13f2b",
   "metadata": {
    "id": "10f13f2b"
   },
   "source": [
    "The dataset we are going to use in this notebook is the *[BBC News Classification dataset](http://mlg.ucd.ie/datasets/bbc.html)*. You can download the dataset in [Kaggle](https://www.kaggle.com/c/learn-ai-bbc/data)."
   ]
  },
  {
   "cell_type": "code",
   "execution_count": null,
   "id": "5539aaa3",
   "metadata": {
    "id": "5539aaa3"
   },
   "outputs": [],
   "source": [
    "import pandas as pd\n",
    "from tqdm import tqdm"
   ]
  },
  {
   "cell_type": "markdown",
   "id": "939518c5",
   "metadata": {
    "id": "939518c5"
   },
   "source": [
    "## Majority voting of models"
   ]
  },
  {
   "cell_type": "code",
   "execution_count": null,
   "id": "dIyZ7yQjna6b",
   "metadata": {
    "id": "dIyZ7yQjna6b"
   },
   "outputs": [],
   "source": [
    "df1=pd.read_csv(\"./submission_gpt2_0.93.csv\")\n",
    "df2=pd.read_csv(\"./submission_bertmodel_best_0_95_2.csv\")\n",
    "df3=pd.read_csv(\"./submission_bertmodel_best_0_95.csv\")\n",
    "df4=pd.read_csv(\"./submission_gpt2_0.92.csv\")\n",
    "df5=pd.read_csv(\"./submission_distilgpt2_0.93.csv\")\n",
    "df6=pd.read_csv(\"./submission_bertmodel.csv\")\n",
    "df7=pd.read_csv(\"./submission_gpt2.csv\")"
   ]
  },
  {
   "cell_type": "code",
   "execution_count": null,
   "id": "xiiA8dB8oXPb",
   "metadata": {
    "colab": {
     "base_uri": "https://localhost:8080/"
    },
    "executionInfo": {
     "elapsed": 1774,
     "status": "ok",
     "timestamp": 1706774580410,
     "user": {
      "displayName": "E Saleh",
      "userId": "10968329751144136049"
     },
     "user_tz": -60
    },
    "id": "xiiA8dB8oXPb",
    "outputId": "9e7725c9-11f1-4317-e20e-4535eca80622"
   },
   "outputs": [
    {
     "name": "stderr",
     "output_type": "stream",
     "text": [
      "100%|██████████| 4457/4457 [00:01<00:00, 2660.74it/s]\n"
     ]
    }
   ],
   "source": [
    "from collections import Counter\n",
    "df_majority_rule=[]\n",
    "\n",
    "for i in tqdm(range(df1.shape[0])):\n",
    "  maj_rule=Counter([\n",
    "      df1.iloc[i,:][\"level\"],\n",
    "      df2.iloc[i,:][\"level\"],\n",
    "      df3.iloc[i,:][\"level\"],\n",
    "      df4.iloc[i,:][\"level\"],\n",
    "      df5.iloc[i,:][\"level\"],\n",
    "      df6.iloc[i,:][\"level\"],\n",
    "      df7.iloc[i,:][\"level\"]\n",
    "      ])\n",
    "  df_majority_rule.append(maj_rule.most_common(1)[0][0])\n",
    "\n",
    "df_majority_rule=pd.DataFrame(df_majority_rule, columns=[\"level\"])\n",
    "df_majority_rule.to_csv(\"submission_maj_rule_bert.csv\",index=True)"
   ]
  }
 ],
 "metadata": {
  "accelerator": "GPU",
  "colab": {
   "gpuType": "T4",
   "provenance": []
  },
  "kernelspec": {
   "display_name": "Python 3",
   "name": "python3"
  },
  "language_info": {
   "codemirror_mode": {
    "name": "ipython",
    "version": 3
   },
   "file_extension": ".py",
   "mimetype": "text/x-python",
   "name": "python",
   "nbconvert_exporter": "python",
   "pygments_lexer": "ipython3",
   "version": "3.7.4"
  }
 },
 "nbformat": 4,
 "nbformat_minor": 5
}
